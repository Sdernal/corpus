{
 "cells": [
  {
   "cell_type": "code",
   "execution_count": 2,
   "metadata": {
    "collapsed": true
   },
   "outputs": [],
   "source": [
    "from os.path import join\n",
    "from os import listdir\n",
    "import re\n",
    "import os"
   ]
  },
  {
   "cell_type": "code",
   "execution_count": 3,
   "metadata": {
    "collapsed": true
   },
   "outputs": [],
   "source": [
    "data_path = r'C:\\Users\\Sdern\\Desktop\\wikiextraction\\text\\AA'\n",
    "result_path = r'C:\\Users\\Sdern\\Desktop\\results'"
   ]
  },
  {
   "cell_type": "code",
   "execution_count": 58,
   "metadata": {
    "collapsed": true
   },
   "outputs": [],
   "source": [
    "reg_text = '<doc .* url=\"(?P<url>.*)\".*title=\"(?P<title>.*)\">.*'\n",
    "reg  = re.compile(reg_text)"
   ]
  },
  {
   "cell_type": "code",
   "execution_count": 80,
   "metadata": {
    "collapsed": false
   },
   "outputs": [],
   "source": [
    "def process_data(content):\n",
    "    content_parts = re.split('</doc>', content)   \n",
    "    for content_part in content_parts:     \n",
    "        content_part = content_part.strip()\n",
    "        result = re.match(reg, content_part)     \n",
    "        if result is None:           \n",
    "            continue \n",
    "        result = result.groupdict()\n",
    "        title = result['title']\n",
    "        metainfo[title] = result['url']\n",
    "        \n",
    "        try:\n",
    "            os.makedirs(join(result_path, title[0]))\n",
    "        except OSError:\n",
    "            pass\n",
    "        try:\n",
    "            result_file = open(join(result_path, title[0], title + '.txt'), 'w',  encoding='utf-8')\n",
    "        except OSError:\n",
    "            continue   \n",
    "        header_end = content_part.find('>')\n",
    "       \n",
    "        result_file.write(content_part[header_end+1:].strip())\n",
    "        result_file.close()"
   ]
  },
  {
   "cell_type": "code",
   "execution_count": 81,
   "metadata": {
    "collapsed": false
   },
   "outputs": [],
   "source": [
    "# metainfo = open(join(result_path, 'metainfo.txt'), 'w')\n",
    "metainfo = dict()\n",
    "data_files = listdir(data_path)\n",
    "\n",
    "for file_name in data_files:\n",
    "    content = open(join(data_path,file_name), 'r', encoding='utf-8').read()\n",
    "    process_data(content)       "
   ]
  },
  {
   "cell_type": "code",
   "execution_count": 87,
   "metadata": {
    "collapsed": false
   },
   "outputs": [],
   "source": [
    "metainfo_file = open(join(result_path, 'metainfo.txt'), 'w')\n",
    "for key in sorted(metainfo):\n",
    "    try:\n",
    "        metainfo_file.write(key +' : ' +  metainfo[key] + '\\n')\n",
    "    except UnicodeEncodeError:\n",
    "        continue\n",
    "metainfo_file.close()"
   ]
  },
  {
   "cell_type": "code",
   "execution_count": 88,
   "metadata": {
    "collapsed": false
   },
   "outputs": [
    {
     "name": "stdout",
     "output_type": "stream",
     "text": [
      "7910\n"
     ]
    }
   ],
   "source": [
    "print(len(metainfo.keys()))"
   ]
  }
 ],
 "metadata": {
  "kernelspec": {
   "display_name": "Python 3",
   "language": "python",
   "name": "python3"
  },
  "language_info": {
   "codemirror_mode": {
    "name": "ipython",
    "version": 3
   },
   "file_extension": ".py",
   "mimetype": "text/x-python",
   "name": "python",
   "nbconvert_exporter": "python",
   "pygments_lexer": "ipython3",
   "version": "3.4.4"
  }
 },
 "nbformat": 4,
 "nbformat_minor": 0
}
