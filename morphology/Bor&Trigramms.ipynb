{
 "cells": [
  {
   "cell_type": "code",
   "execution_count": 9,
   "metadata": {
    "collapsed": true
   },
   "outputs": [],
   "source": [
    "import re\n",
    "import io\n",
    "\n",
    "text_file = 'C:\\Users\\VKorzun\\Desktop\\wp.txt'"
   ]
  },
  {
   "cell_type": "markdown",
   "metadata": {},
   "source": [
    "# 1 - Триграммы"
   ]
  },
  {
   "cell_type": "code",
   "execution_count": 10,
   "metadata": {
    "collapsed": true
   },
   "outputs": [],
   "source": [
    "word_list = []\n",
    "def text_to_wordlist(text):\n",
    "    regexp = u'[^а-яА-Яё]'\n",
    "    sent = re.sub(regexp, ' ', text)\n",
    "    return sent.lower().split()\n",
    "\n",
    "with io.open(text_file, \"r\", encoding='utf-16-le') as text_file:\n",
    "    text = text_file.read()\n",
    "    word_list = text_to_wordlist(text)    "
   ]
  },
  {
   "cell_type": "code",
   "execution_count": 22,
   "metadata": {
    "collapsed": true
   },
   "outputs": [],
   "source": [
    "def get_trigrams(word):\n",
    "    trigramms = []\n",
    "    for i in range(len(word)-2):\n",
    "        trigramms.append(word[i:i+3])\n",
    "    return trigramms"
   ]
  },
  {
   "cell_type": "code",
   "execution_count": 27,
   "metadata": {},
   "outputs": [
    {
     "name": "stdout",
     "output_type": "stream",
     "text": [
      "##лев##\n"
     ]
    }
   ],
   "source": [
    "print word_list[0]"
   ]
  },
  {
   "cell_type": "code",
   "execution_count": 26,
   "metadata": {
    "collapsed": true
   },
   "outputs": [],
   "source": [
    "for i in range(len(word_list)):\n",
    "    word_list[i] = '##'+word_list[i]+'##'"
   ]
  },
  {
   "cell_type": "code",
   "execution_count": 28,
   "metadata": {
    "collapsed": true
   },
   "outputs": [],
   "source": [
    "trigramm_dict = dict()\n",
    "for word in word_list:\n",
    "    trigrams = get_trigrams(word)\n",
    "    for trigram in trigrams:\n",
    "        if trigram in trigramm_dict.keys():\n",
    "            trigramm_dict[trigram] = trigramm_dict[trigram] + 1\n",
    "        else:\n",
    "            trigramm_dict[trigram] = 1"
   ]
  },
  {
   "cell_type": "code",
   "execution_count": 29,
   "metadata": {},
   "outputs": [
    {
     "name": "stdout",
     "output_type": "stream",
     "text": [
      "о## 13712\n",
      "и## 11407\n",
      "а## 10653\n",
      "е## 10076\n",
      "##с 9891\n",
      "##п 9809\n",
      "##в 9625\n",
      "##н 9456\n",
      "##о 7748\n",
      "я## 7109\n"
     ]
    }
   ],
   "source": [
    "sorted_trigramms = sorted(trigramm_dict.items(), key=lambda (k, v): v, reverse=True)\n",
    "\n",
    "for tr in sorted_trigramms[:10]:\n",
    "    print tr[0], tr[1]"
   ]
  },
  {
   "cell_type": "code",
   "execution_count": 30,
   "metadata": {
    "collapsed": true
   },
   "outputs": [],
   "source": [
    "all_tr = 0\n",
    "for tr in sorted_trigramms:\n",
    "    all_tr += tr[1]"
   ]
  },
  {
   "cell_type": "code",
   "execution_count": 66,
   "metadata": {
    "collapsed": true
   },
   "outputs": [],
   "source": [
    "def is_bad(word, p):\n",
    "    trigramms = get_trigrams(u'##'+word+u'##')\n",
    "    for tr in trigramms:     \n",
    "        print trigramm_dict.get(tr), tr, \n",
    "        if trigramm_dict.get(tr) == None or float(trigramm_dict.get(tr)) / all_tr <  p :            \n",
    "            print float(trigramm_dict.get(tr)) / all_tr\n",
    "            return True\n",
    "    return False"
   ]
  },
  {
   "cell_type": "code",
   "execution_count": 69,
   "metadata": {},
   "outputs": [
    {
     "name": "stdout",
     "output_type": "stream",
     "text": [
      "7748 ##о 15 #ош 47 оши 2 шип 2.67613304128e-06\n",
      "True\n"
     ]
    }
   ],
   "source": [
    "print is_bad(u'ошипка', 0.00002)"
   ]
  },
  {
   "cell_type": "markdown",
   "metadata": {},
   "source": [
    "# 2 - Бор"
   ]
  },
  {
   "cell_type": "code",
   "execution_count": 1,
   "metadata": {
    "collapsed": true
   },
   "outputs": [],
   "source": [
    "class Node:\n",
    "    def __init__(self):\n",
    "        self.term = False\n",
    "        self.children = {}    \n",
    "        \n",
    "class NodeCrawl:\n",
    "    def __init__(self, node, string, error):\n",
    "        self.node = node\n",
    "        self.string = string\n",
    "        self.error = error"
   ]
  },
  {
   "cell_type": "code",
   "execution_count": 2,
   "metadata": {
    "collapsed": true
   },
   "outputs": [],
   "source": [
    "def insert_word(bor, word):\n",
    "    root = bor\n",
    "    for i in range(len(word)):\n",
    "        if root.children.get(word[i]) == None:\n",
    "            for j in range (i, len(word)):\n",
    "                new_root = Node()\n",
    "                root.children[word[j]] = new_root\n",
    "                root = new_root\n",
    "            root.term=True            \n",
    "            break\n",
    "        else:\n",
    "            root = root.children[word[i]]            "
   ]
  },
  {
   "cell_type": "code",
   "execution_count": 60,
   "metadata": {
    "collapsed": true
   },
   "outputs": [],
   "source": [
    "def find_word(results,best, part):\n",
    "    new_results = []\n",
    "    \n",
    "    for result in results:\n",
    "#         print result.string, part\n",
    "        if result.error >= best.error:\n",
    "            continue\n",
    "        if result.node.term and result.error + len(part) < best.error:\n",
    "            best = result         \n",
    "            best.error += len(part)\n",
    "        for key in result.node.children.keys():\n",
    "            new_node = None\n",
    "            if len(part) > 0 and key == part[0]:\n",
    "                new_node = NodeCrawl(result.node.children[key], result.string + key, result.error)                \n",
    "            else:\n",
    "                new_node = NodeCrawl(result.node.children[key], result.string + key, result.error + 1)\n",
    "            new_results.append(new_node)\n",
    "        \n",
    "    if len(new_results) == 0:\n",
    "        return best.string\n",
    "    if len(part) > 0:\n",
    "        part = part[1:]\n",
    "    return find_word(new_results, best, part)\n",
    "        "
   ]
  },
  {
   "cell_type": "code",
   "execution_count": 29,
   "metadata": {
    "collapsed": true
   },
   "outputs": [],
   "source": [
    "bor = Node()\n"
   ]
  },
  {
   "cell_type": "code",
   "execution_count": 30,
   "metadata": {
    "collapsed": true
   },
   "outputs": [],
   "source": [
    "insert_word(bor, 'kot')\n",
    "insert_word(bor, 'kut')\n",
    "insert_word(bor, 'pot')"
   ]
  },
  {
   "cell_type": "code",
   "execution_count": 43,
   "metadata": {},
   "outputs": [
    {
     "data": {
      "text/plain": [
       "'pot'"
      ]
     },
     "execution_count": 43,
     "metadata": {},
     "output_type": "execute_result"
    }
   ],
   "source": [
    "find_word([NodeCrawl(bor, '', 0)], NodeCrawl(bor, '', 3),'pok')"
   ]
  },
  {
   "cell_type": "code",
   "execution_count": 11,
   "metadata": {
    "collapsed": true
   },
   "outputs": [],
   "source": [
    "root = Node()\n",
    "for word in word_list:\n",
    "    insert_word(root, word)"
   ]
  },
  {
   "cell_type": "code",
   "execution_count": 61,
   "metadata": {},
   "outputs": [
    {
     "name": "stdout",
     "output_type": "stream",
     "text": [
      "ошибки\n"
     ]
    }
   ],
   "source": [
    "print find_word([NodeCrawl(root, '', 0)], NodeCrawl(root, '', 6), u'ошипка')"
   ]
  },
  {
   "cell_type": "code",
   "execution_count": 63,
   "metadata": {},
   "outputs": [
    {
     "name": "stdout",
     "output_type": "stream",
     "text": [
      "жизни\n"
     ]
    }
   ],
   "source": [
    "print find_word([NodeCrawl(root, '', 0)], NodeCrawl(root, '', 5), u'шизнь')"
   ]
  },
  {
   "cell_type": "code",
   "execution_count": 66,
   "metadata": {},
   "outputs": [
    {
     "name": "stdout",
     "output_type": "stream",
     "text": [
      "лет\n"
     ]
    }
   ],
   "source": [
    "print find_word([NodeCrawl(root, '', 0)], NodeCrawl(root, '', 3), u'леф')"
   ]
  },
  {
   "cell_type": "code",
   "execution_count": 67,
   "metadata": {},
   "outputs": [
    {
     "name": "stdout",
     "output_type": "stream",
     "text": [
      "командира\n"
     ]
    }
   ],
   "source": [
    "print find_word([NodeCrawl(root, '', 0)], NodeCrawl(root, '', 8), u'комантир')"
   ]
  }
 ],
 "metadata": {
  "kernelspec": {
   "display_name": "Python 2",
   "language": "python",
   "name": "python2"
  },
  "language_info": {
   "codemirror_mode": {
    "name": "ipython",
    "version": 2
   },
   "file_extension": ".py",
   "mimetype": "text/x-python",
   "name": "python",
   "nbconvert_exporter": "python",
   "pygments_lexer": "ipython2",
   "version": "2.7.13"
  }
 },
 "nbformat": 4,
 "nbformat_minor": 2
}
