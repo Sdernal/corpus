{
 "cells": [
  {
   "cell_type": "code",
   "execution_count": 3,
   "metadata": {
    "collapsed": true
   },
   "outputs": [],
   "source": [
    "import re\n",
    "import io\n",
    "\n",
    "text_file = 'C:\\Users\\VKorzun\\Desktop\\wp.txt'"
   ]
  },
  {
   "cell_type": "markdown",
   "metadata": {},
   "source": [
    "# 1 - Триграммы"
   ]
  },
  {
   "cell_type": "code",
   "execution_count": 70,
   "metadata": {
    "collapsed": true
   },
   "outputs": [],
   "source": [
    "word_list = []\n",
    "def text_to_wordlist(text):\n",
    "    regexp = u'[^а-яА-Яё]'\n",
    "    sent = re.sub(regexp, ' ', text)\n",
    "    return sent.lower().split()\n",
    "\n",
    "with io.open(text_file, \"r\", encoding='utf-16-le') as text_file:\n",
    "    text = text_file.read()\n",
    "    word_list = text_to_wordlist(text)    "
   ]
  },
  {
   "cell_type": "code",
   "execution_count": 22,
   "metadata": {
    "collapsed": true
   },
   "outputs": [],
   "source": [
    "def get_trigrams(word):\n",
    "    trigramms = []\n",
    "    for i in range(len(word)-2):\n",
    "        trigramms.append(word[i:i+3])\n",
    "    return trigramms"
   ]
  },
  {
   "cell_type": "code",
   "execution_count": 27,
   "metadata": {},
   "outputs": [
    {
     "name": "stdout",
     "output_type": "stream",
     "text": [
      "##лев##\n"
     ]
    }
   ],
   "source": [
    "print word_list[0]"
   ]
  },
  {
   "cell_type": "code",
   "execution_count": 26,
   "metadata": {
    "collapsed": true
   },
   "outputs": [],
   "source": [
    "for i in range(len(word_list)):\n",
    "    word_list[i] = '##'+word_list[i]+'##'"
   ]
  },
  {
   "cell_type": "code",
   "execution_count": 28,
   "metadata": {
    "collapsed": true
   },
   "outputs": [],
   "source": [
    "trigramm_dict = dict()\n",
    "for word in word_list:\n",
    "    trigrams = get_trigrams(word)\n",
    "    for trigram in trigrams:\n",
    "        if trigram in trigramm_dict.keys():\n",
    "            trigramm_dict[trigram] = trigramm_dict[trigram] + 1\n",
    "        else:\n",
    "            trigramm_dict[trigram] = 1"
   ]
  },
  {
   "cell_type": "code",
   "execution_count": 29,
   "metadata": {},
   "outputs": [
    {
     "name": "stdout",
     "output_type": "stream",
     "text": [
      "о## 13712\n",
      "и## 11407\n",
      "а## 10653\n",
      "е## 10076\n",
      "##с 9891\n",
      "##п 9809\n",
      "##в 9625\n",
      "##н 9456\n",
      "##о 7748\n",
      "я## 7109\n"
     ]
    }
   ],
   "source": [
    "sorted_trigramms = sorted(trigramm_dict.items(), key=lambda (k, v): v, reverse=True)\n",
    "\n",
    "for tr in sorted_trigramms[:10]:\n",
    "    print tr[0], tr[1]"
   ]
  },
  {
   "cell_type": "code",
   "execution_count": 30,
   "metadata": {
    "collapsed": true
   },
   "outputs": [],
   "source": [
    "all_tr = 0\n",
    "for tr in sorted_trigramms:\n",
    "    all_tr += tr[1]"
   ]
  },
  {
   "cell_type": "code",
   "execution_count": 66,
   "metadata": {
    "collapsed": true
   },
   "outputs": [],
   "source": [
    "def is_bad(word, p):\n",
    "    trigramms = get_trigrams(u'##'+word+u'##')\n",
    "    for tr in trigramms:     \n",
    "        print trigramm_dict.get(tr), tr, \n",
    "        if trigramm_dict.get(tr) == None or float(trigramm_dict.get(tr)) / all_tr <  p :            \n",
    "            print float(trigramm_dict.get(tr)) / all_tr\n",
    "            return True\n",
    "    return False"
   ]
  },
  {
   "cell_type": "code",
   "execution_count": 69,
   "metadata": {},
   "outputs": [
    {
     "name": "stdout",
     "output_type": "stream",
     "text": [
      "7748 ##о 15 #ош 47 оши 2 шип 2.67613304128e-06\n",
      "True\n"
     ]
    }
   ],
   "source": [
    "print is_bad(u'ошипка', 0.00002)"
   ]
  },
  {
   "cell_type": "markdown",
   "metadata": {},
   "source": [
    "# 2 - Бор"
   ]
  },
  {
   "cell_type": "code",
   "execution_count": 1,
   "metadata": {
    "collapsed": true
   },
   "outputs": [],
   "source": [
    "class Node:\n",
    "    def __init__(self):\n",
    "        self.term = False\n",
    "        self.children = {}    \n",
    "        \n",
    "class NodeCrawl:\n",
    "    def _init__(self, node, string, error):\n",
    "        self.node = node\n",
    "        self.string = string\n",
    "        self.error = error"
   ]
  },
  {
   "cell_type": "code",
   "execution_count": 107,
   "metadata": {
    "collapsed": true
   },
   "outputs": [],
   "source": [
    "def insert_word(bor, word):\n",
    "    root = bor\n",
    "    for i in range(len(word)):\n",
    "        if root.children.get(word[i]) == None:\n",
    "            for j in range (i, len(word)):\n",
    "                new_root = Node()\n",
    "                root.children[word[j]] = new_root\n",
    "                root = new_root\n",
    "            root.term=True            \n",
    "            break\n",
    "        else:\n",
    "            root = root.children[word[i]]            "
   ]
  },
  {
   "cell_type": "code",
   "execution_count": null,
   "metadata": {
    "collapsed": true
   },
   "outputs": [],
   "source": [
    "def find_word(results,best, part):\n",
    "    new_results = []\n",
    "    for result in results:\n",
    "        if result.error >= best.error:\n",
    "            continue\n",
    "        if result.term and result.error + len(part) < best.error:\n",
    "            best = result\n",
    "        if len(part) > 0 and result.children.get(part[0]) != None:\n",
    "            new_node = new NodeCrawl(result.children.get(part[0]), result)\n",
    "            new_result.append\n",
    "        if result.\n",
    "        if node.term:\n",
    "            results.append((node, cu))"
   ]
  },
  {
   "cell_type": "code",
   "execution_count": 93,
   "metadata": {
    "collapsed": true
   },
   "outputs": [],
   "source": [
    "bor = Node()\n"
   ]
  },
  {
   "cell_type": "code",
   "execution_count": 108,
   "metadata": {
    "collapsed": true
   },
   "outputs": [],
   "source": [
    "insert_word(bor, 'oe')"
   ]
  },
  {
   "cell_type": "code",
   "execution_count": 112,
   "metadata": {},
   "outputs": [
    {
     "data": {
      "text/plain": [
       "'yes'"
      ]
     },
     "execution_count": 112,
     "metadata": {},
     "output_type": "execute_result"
    }
   ],
   "source": [
    "bor.children['o'].children['e'].term"
   ]
  }
 ],
 "metadata": {
  "kernelspec": {
   "display_name": "Python 2",
   "language": "python",
   "name": "python2"
  },
  "language_info": {
   "codemirror_mode": {
    "name": "ipython",
    "version": 2
   },
   "file_extension": ".py",
   "mimetype": "text/x-python",
   "name": "python",
   "nbconvert_exporter": "python",
   "pygments_lexer": "ipython2",
   "version": "2.7.13"
  }
 },
 "nbformat": 4,
 "nbformat_minor": 2
}
